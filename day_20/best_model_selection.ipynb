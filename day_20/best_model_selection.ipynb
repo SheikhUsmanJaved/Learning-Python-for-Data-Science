{
 "cells": [
  {
   "cell_type": "markdown",
   "metadata": {},
   "source": [
    "# Best Model Selection"
   ]
  },
  {
   "cell_type": "code",
   "execution_count": 2,
   "metadata": {},
   "outputs": [
    {
     "name": "stderr",
     "output_type": "stream",
     "text": [
      "C:\\Users\\IBM\\AppData\\Local\\Temp\\ipykernel_9056\\1420442964.py:10: FutureWarning: A value is trying to be set on a copy of a DataFrame or Series through chained assignment using an inplace method.\n",
      "The behavior will change in pandas 3.0. This inplace method will never work because the intermediate object on which we are setting values always behaves as a copy.\n",
      "\n",
      "For example, when doing 'df[col].method(value, inplace=True)', try using 'df.method({col: value}, inplace=True)' or df[col] = df[col].method(value) instead, to perform the operation inplace on the original object.\n",
      "\n",
      "\n",
      "  X.age.fillna(value= X['age'].mean(), inplace=True)\n"
     ]
    },
    {
     "name": "stdout",
     "output_type": "stream",
     "text": [
      "Accuracy Score:  Logistic Regression : 0.81\n",
      "Accuracy Score:  Random Forest : 0.80\n",
      "Accuracy Score:  Decision tree : 0.78\n",
      "Accuracy Score:  KNN : 0.69\n",
      "Accuracy Score:  SVM : 0.66\n"
     ]
    }
   ],
   "source": [
    "import pandas as pd\n",
    "import numpy as np\n",
    "import seaborn as sns\n",
    "import matplotlib.pyplot as plt\n",
    "\n",
    "df = sns.load_dataset('titanic')\n",
    "X = df[['pclass', 'sex', 'age', 'sibsp', 'parch', 'fare']]\n",
    "y = df['survived']\n",
    "X = pd.get_dummies(X, columns=['sex']) #(Label encoding)\n",
    "X.age.fillna(value= X['age'].mean(), inplace=True)\n",
    "\n",
    "from sklearn.linear_model import LogisticRegression\n",
    "from sklearn.tree import DecisionTreeClassifier\n",
    "from sklearn.ensemble import RandomForestClassifier\n",
    "from sklearn.svm import SVC\n",
    "from sklearn.neighbors import KNeighborsClassifier\n",
    "from sklearn.metrics import accuracy_score, f1_score, precision_score, recall_score\n",
    "from sklearn.model_selection import train_test_split\n",
    "\n",
    "X_train, X_test, y_train, y_test = train_test_split(X,y, test_size=0.2, random_state=42) #what is random state and why it's value is taken as 42.\n",
    "models = [LogisticRegression(), KNeighborsClassifier(), RandomForestClassifier(), DecisionTreeClassifier(), SVC()]\n",
    "model_names = ['Logistic Regression', 'KNN', 'Random Forest','Decision tree', 'SVM']\n",
    "\n",
    "models_scores = []\n",
    "for model, model_name in zip(models, model_names):\n",
    "    model.fit(X_train, y_train)\n",
    "    y_pred = model.predict(X_test)\n",
    "    accuracy = accuracy_score(y_test, y_pred)\n",
    "    models_scores.append([model_name,accuracy])\n",
    "\n",
    "sorted_models = sorted(models_scores, key = lambda x: x[1], reverse=True) # check out the lambda function\n",
    "for model in sorted_models:\n",
    "    print(\"Accuracy Score: \", f'{model[0]} : {model[1] :.2f}') # How it works\n"
   ]
  },
  {
   "cell_type": "code",
   "execution_count": 7,
   "metadata": {},
   "outputs": [
    {
     "name": "stdout",
     "output_type": "stream",
     "text": [
      "Precision Score:  Logistic Regression : 0.80\n",
      "Precision Score:  Random Forest : 0.78\n",
      "Precision Score:  SVM : 0.76\n",
      "Precision Score:  Decision tree : 0.72\n",
      "Precision Score:  KNN : 0.66\n"
     ]
    }
   ],
   "source": [
    "models = [LogisticRegression(), KNeighborsClassifier(), RandomForestClassifier(), DecisionTreeClassifier(), SVC()]\n",
    "model_names = ['Logistic Regression', 'KNN', 'Random Forest','Decision tree', 'SVM']\n",
    "\n",
    "models_scores = []\n",
    "for model, model_name in zip(models, model_names):\n",
    "    model.fit(X_train, y_train)\n",
    "    y_pred = model.predict(X_test)\n",
    "    Precision = precision_score(y_test, y_pred)\n",
    "    models_scores.append([model_name,Precision])\n",
    "\n",
    "sorted_models = sorted(models_scores, key = lambda x: x[1], reverse=True) \n",
    "for model in sorted_models:\n",
    "    print(\"Precision Score: \", f'{model[0]} : {model[1] :.2f}') "
   ]
  },
  {
   "cell_type": "code",
   "execution_count": 9,
   "metadata": {},
   "outputs": [
    {
     "name": "stdout",
     "output_type": "stream",
     "text": [
      "Recall Score:  Logistic Regression : 0.72\n",
      "Recall Score:  Random Forest : 0.72\n",
      "Recall Score:  Decision tree : 0.72\n",
      "Recall Score:  KNN : 0.54\n",
      "Recall Score:  SVM : 0.26\n"
     ]
    }
   ],
   "source": [
    "models = [LogisticRegression(), KNeighborsClassifier(), RandomForestClassifier(), DecisionTreeClassifier(), SVC()]\n",
    "model_names = ['Logistic Regression', 'KNN', 'Random Forest','Decision tree', 'SVM']\n",
    "\n",
    "models_scores = []\n",
    "for model, model_name in zip(models, model_names):\n",
    "    model.fit(X_train, y_train)\n",
    "    y_pred = model.predict(X_test)\n",
    "    Recall = recall_score(y_test, y_pred)\n",
    "    models_scores.append([model_name,Recall])\n",
    "    \n",
    "\n",
    "sorted_models = sorted(models_scores, key = lambda x: x[1], reverse=True) \n",
    "for model in sorted_models:\n",
    "    print(\"Recall Score: \", f'{model[0]} : {model[1] :.2f}') "
   ]
  },
  {
   "cell_type": "code",
   "execution_count": 10,
   "metadata": {},
   "outputs": [
    {
     "name": "stdout",
     "output_type": "stream",
     "text": [
      "F1 Score:  Random Forest : 0.76\n",
      "F1 Score:  Logistic Regression : 0.76\n",
      "F1 Score:  Decision tree : 0.71\n",
      "F1 Score:  KNN : 0.59\n",
      "F1 Score:  SVM : 0.38\n"
     ]
    }
   ],
   "source": [
    "models = [LogisticRegression(), KNeighborsClassifier(), RandomForestClassifier(), DecisionTreeClassifier(), SVC()]\n",
    "model_names = ['Logistic Regression', 'KNN', 'Random Forest','Decision tree', 'SVM']\n",
    "\n",
    "models_scores = []\n",
    "for model, model_name in zip(models, model_names):\n",
    "    model.fit(X_train, y_train)\n",
    "    y_pred = model.predict(X_test)\n",
    "    F1 = f1_score(y_test, y_pred)\n",
    "    models_scores.append([model_name,F1])\n",
    "\n",
    "sorted_models = sorted(models_scores, key = lambda x: x[1], reverse=True) \n",
    "for model in sorted_models:\n",
    "    print(\"F1 Score: \", f'{model[0]} : {model[1] :.2f}') "
   ]
  }
 ],
 "metadata": {
  "kernelspec": {
   "display_name": "Python 3",
   "language": "python",
   "name": "python3"
  },
  "language_info": {
   "codemirror_mode": {
    "name": "ipython",
    "version": 3
   },
   "file_extension": ".py",
   "mimetype": "text/x-python",
   "name": "python",
   "nbconvert_exporter": "python",
   "pygments_lexer": "ipython3",
   "version": "3.12.3"
  }
 },
 "nbformat": 4,
 "nbformat_minor": 2
}
